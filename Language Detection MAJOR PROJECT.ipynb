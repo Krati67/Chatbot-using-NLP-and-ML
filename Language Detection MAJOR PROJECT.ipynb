{
 "cells": [
  {
   "cell_type": "markdown",
   "metadata": {},
   "source": [
    "# INPUT TYPE 1: TEXT"
   ]
  },
  {
   "cell_type": "code",
   "execution_count": null,
   "metadata": {},
   "outputs": [],
   "source": [
    "pip install langdetect"
   ]
  },
  {
   "cell_type": "code",
   "execution_count": null,
   "metadata": {},
   "outputs": [],
   "source": [
    "from langdetect import detect\n",
    "\n",
    "s = \"ich bin krati.\"\n",
    "print(detect(s))"
   ]
  },
  {
   "cell_type": "code",
   "execution_count": null,
   "metadata": {},
   "outputs": [],
   "source": [
    "g = \"Das ist eine Tasse Wasser\"\n",
    "print(detect(g))"
   ]
  },
  {
   "cell_type": "code",
   "execution_count": null,
   "metadata": {},
   "outputs": [],
   "source": [
    "#detect language will find out the probabilities of possible languages\n",
    "#short text will affect the accuracy \n",
    "\n",
    "from langdetect import detect_langs\n",
    "\n",
    "print(detect_langs(g))"
   ]
  },
  {
   "cell_type": "code",
   "execution_count": null,
   "metadata": {},
   "outputs": [],
   "source": [
    "d = \"Die stuhl ist klein\"\n",
    "print(detect_langs(d))"
   ]
  },
  {
   "cell_type": "code",
   "execution_count": null,
   "metadata": {},
   "outputs": [],
   "source": [
    "#before language detection in order to enforce consistent results use DetectorFactory\n",
    "\n",
    "from langdetect import DetectorFactory\n",
    "DetectorFactory.seed = 0"
   ]
  },
  {
   "cell_type": "code",
   "execution_count": null,
   "metadata": {},
   "outputs": [],
   "source": [
    "print(detect_langs(d))"
   ]
  },
  {
   "cell_type": "code",
   "execution_count": null,
   "metadata": {},
   "outputs": [],
   "source": [
    "# now language translation "
   ]
  },
  {
   "cell_type": "code",
   "execution_count": null,
   "metadata": {},
   "outputs": [],
   "source": [
    "pip install google_trans_new"
   ]
  },
  {
   "cell_type": "code",
   "execution_count": null,
   "metadata": {},
   "outputs": [],
   "source": [
    "from google_trans_new import google_translator\n",
    "\n",
    "t = google_translator()\n",
    "s = \"die stuhl ist klein aber teuer\"\n",
    "trans_text = t.translate(s)\n",
    "#by default it will translate the sentence into english until and unless specified\n",
    "print(trans_text)"
   ]
  },
  {
   "cell_type": "code",
   "execution_count": null,
   "metadata": {},
   "outputs": [],
   "source": [
    "trans_text_into_hindi = t.translate(s,lang_tgt = 'hi')\n",
    "print(trans_text_into_hindi)"
   ]
  },
  {
   "cell_type": "code",
   "execution_count": null,
   "metadata": {},
   "outputs": [],
   "source": [
    "trial_text = t.translate(\"this is our venue, hope you like it\", lang_tgt = 'te')\n",
    "print(trial_text)"
   ]
  },
  {
   "cell_type": "code",
   "execution_count": null,
   "metadata": {},
   "outputs": [],
   "source": [
    "#function to detect and translate text\n",
    "\n",
    "def detect_trans(text,target_lang):\n",
    "    detect_language = detect(text)\n",
    "    if detect_language == target_lang:\n",
    "        return text\n",
    "    else:\n",
    "        t = google_translator()\n",
    "        translate_text = t.translate(text, lang_src=detect_language, lang_tgt=target_lang)\n",
    "        return translate_text"
   ]
  },
  {
   "cell_type": "code",
   "execution_count": null,
   "metadata": {},
   "outputs": [],
   "source": [
    "print(detect_trans(\"hey my name is krati, nice to meet you\", target_lang = 'de'))"
   ]
  },
  {
   "cell_type": "code",
   "execution_count": null,
   "metadata": {},
   "outputs": [],
   "source": [
    "#Reference: https://towardsdatascience.com/how-to-detect-and-translate-languages-for-nlp-project-dfd52af0c3b5\n"
   ]
  },
  {
   "cell_type": "markdown",
   "metadata": {},
   "source": [
    "# Speech Recognition"
   ]
  },
  {
   "cell_type": "code",
   "execution_count": null,
   "metadata": {},
   "outputs": [],
   "source": [
    "pip install speechrecognition"
   ]
  },
  {
   "cell_type": "code",
   "execution_count": null,
   "metadata": {},
   "outputs": [],
   "source": [
    "import speech_recognition as sr"
   ]
  },
  {
   "cell_type": "code",
   "execution_count": null,
   "metadata": {},
   "outputs": [],
   "source": [
    "pip install pyaudio"
   ]
  },
  {
   "cell_type": "code",
   "execution_count": null,
   "metadata": {},
   "outputs": [],
   "source": [
    "r1 = sr.Recognizer()\n",
    "\n",
    "\n",
    "with sr.Microphone() as source:\n",
    "    print('speak now')\n",
    "    audio = r1.listen(source)\n",
    "    try:\n",
    "        get = r1.recognize_google(audio)\n",
    "        print(get)\n",
    "        print(detect(get))\n",
    "    except sr.UnkownValueError:\n",
    "        print('error')\n",
    "    except sr.RequestError as e:\n",
    "        print('failed'.format(e))"
   ]
  },
  {
   "cell_type": "code",
   "execution_count": null,
   "metadata": {},
   "outputs": [],
   "source": [
    "# reference: https://www.youtube.com/watch?v=sHeJgKBaiAI\n",
    "# write audio\n",
    " \n",
    "#        with open(\"recorded.wav\", \"wb\") as f:\n",
    "#            f.write(audio.get_wav_data())"
   ]
  },
  {
   "cell_type": "markdown",
   "metadata": {},
   "source": [
    "# AUDIO TO TEXT"
   ]
  },
  {
   "cell_type": "code",
   "execution_count": null,
   "metadata": {},
   "outputs": [],
   "source": [
    "r2 = sr.Recognizer()\n",
    "with sr.AudioFile('01.wav') as source:\n",
    "    audio = r2.listen(source)\n",
    "    try:\n",
    "        text = r2.recognize_google(audio)\n",
    "        print('Working on...')\n",
    "        print(text)\n",
    "    except:\n",
    "        print('could not recognize')"
   ]
  },
  {
   "cell_type": "code",
   "execution_count": null,
   "metadata": {},
   "outputs": [],
   "source": [
    "r3 = sr.Recognizer()\n",
    "with sr.AudioFile('trialaudio.wav') as source:\n",
    "    r3.adjust_for_ambient_noise(source)\n",
    "    audio = r3.listen(source)\n",
    "    try:\n",
    "        text = r3.recognize_google(audio)\n",
    "        print('Working on...')\n",
    "        print(text)\n",
    "    except:\n",
    "        print('could not recognize')"
   ]
  },
  {
   "cell_type": "markdown",
   "metadata": {},
   "source": [
    "# DATE: 14-03-2021"
   ]
  },
  {
   "cell_type": "code",
   "execution_count": null,
   "metadata": {},
   "outputs": [],
   "source": [
    "# a chatbot program\n",
    "# importing libraries\n",
    "\n",
    "from nltk.chat.util import Chat, reflections"
   ]
  },
  {
   "cell_type": "code",
   "execution_count": null,
   "metadata": {},
   "outputs": [],
   "source": [
    "pairs = [\n",
    "    ['my name is (.*)',['hi %1, how are you?']],\n",
    "    ['(hi|hello|hey|hola)',['hey there', 'hi there', 'hey how are you?']],\n",
    "    ['I am (good|great|ok ok)', ['how can I help you?']],\n",
    "    ['(.*) created you?', ['Krati Rastogi created me!']],\n",
    "    ['(What|what|whats) is your name?', ['My name is KitKat.']],\n",
    "    ['(.*)help(.*)', ['How can I help you?']],\n",
    "    ['(what do you do?|what is your purpose?)', [\"I translate audio and text into desired language\"]]\n",
    "]"
   ]
  },
  {
   "cell_type": "code",
   "execution_count": null,
   "metadata": {},
   "outputs": [],
   "source": [
    "chat = Chat(pairs, reflections)\n",
    "chat.converse()"
   ]
  },
  {
   "cell_type": "code",
   "execution_count": null,
   "metadata": {},
   "outputs": [],
   "source": [
    "from langdetect import detect\n",
    "from google_trans_new import google_translator\n",
    "t = google_translator()\n",
    "\n",
    "# first the robot will say that its name is kitkat and it is a personal translator\n",
    "# it will ask whether the user the type of input text or speech\n",
    "\n",
    "print('Hey I am Kitkat.')\n",
    "print('I am your personal translator.')\n",
    "print('What type of input will you choose?')\n",
    "print('1. Text')\n",
    "print('2. Speech')\n",
    "\n",
    "#it will take the human input whether it is text or speech and convert it into .lower() and it will then print it\n",
    "\n",
    "human_text = input()\n",
    "human_text = human_text.lower()\n",
    "print(human_text)\n",
    "\n",
    "# if and else loops starts from here first it will check whethere the input is text or speech \n",
    "# it will first check for text input in the IF part\n",
    "\n",
    "# instead of writing each and everything we can directly make several functions instead of writing everything down \n",
    "# make a flow chart of it on a paper\n",
    "# look how many functions are needed\n",
    "# prepare functions \n",
    "# align then in the ifelse statement \n",
    "# using tinker make a UI \n",
    "# try again \n",
    "\n",
    "def ask_user_about_lang_pref():\n",
    "      \n",
    "    print(\"In which language do you wish to translate?\")\n",
    "    print(\"1. English\")\n",
    "    print(\"2. Hindi\")\n",
    "    print(\"3. Deutsch\")\n",
    "    pref = input(\"Enter: \")\n",
    "    pref = pref.lower()\n",
    "    \n",
    "if human_text == 'text':\n",
    "  detect_language = input(\"PLease enter the text which you wish to translate: \")\n",
    "  print(\"Language: \", detect(detect_language))\n",
    "  print(\"In which language do you wish to translate?\")\n",
    "  print(\"1. English\")\n",
    "  print(\"2. Hindi\")\n",
    "  print(\"3. Deutsch\")\n",
    "  to_translate = input(\"Enter: \")\n",
    "  to_translate = to_translate.lower()\n",
    "  if to_translate == 'english':\n",
    "    print(t.translate(detect_language, lang_tgt = 'en'))\n",
    "    print(\"Do you wish to convert it into any other language?\")\n",
    "    print(\"Y/N\")\n",
    "    yes_no = input()\n",
    "    yes_no = yes_no.lower()\n",
    "    if yes_no == 'y':\n",
    "      print(\"In which language do you wish to translate?\")\n",
    "      print(\"1. English\")\n",
    "      print(\"2. Hindi\")\n",
    "      print(\"3. Deutsch\")\n",
    "      to_translate = input(\"Enter: \")\n",
    "      to_translate = to_translate.lower()\n",
    "      if to_translate == 'hindi':\n",
    "        print(t.translate(detect_language,lang_tgt = 'hi'))\n",
    "  elif to_translate == 'hindi':\n",
    "    print(t.translate(detect_language,lang_tgt = 'hi'))\n",
    "  elif to_translate == 'deutsch':\n",
    "    print(t.translate())\n",
    "elif human_text == 'speech':\n",
    "  r1 = sr.Recognizer()\n",
    "  with sr.Microphone() as source:\n",
    "    print('speak now')\n",
    "    audio = r1.listen(source)\n",
    "    try:\n",
    "        get = r1.recognize_google(audio)\n",
    "        print(get)\n",
    "        print(detect(get))\n",
    "    except sr.UnkownValueError:\n",
    "        print('error')\n",
    "    except sr.RequestError as e:\n",
    "        print('failed'.format(e))\n",
    "\n",
    "else:\n",
    "  print(\"Sorry, I could not understand!\")"
   ]
  },
  {
   "cell_type": "code",
   "execution_count": null,
   "metadata": {},
   "outputs": [],
   "source": [
    "from langdetect import detect\n",
    "from google_trans_new import google_translator\n",
    "import speech_recognition as sr\n",
    "t = google_translator()\n",
    "\n",
    "# this function will take users choice on input text or speech\n",
    "def choice_of_input():\n",
    "    print('What type of input will you choose?')\n",
    "    print('1. Text')\n",
    "    print('2. Speech')\n",
    "    choice_of_input.human_text = input()\n",
    "    choice_of_input.human_text = choice_of_input.human_text.lower()\n",
    "    print(choice_of_input.human_text)\n",
    "    \n",
    "#this function will take user's language prefernce and convert it into lower\n",
    "def ask_user_about_lang_pref():\n",
    "    print(\"In which language do you wish to translate?\")\n",
    "    print(\"1. English\")\n",
    "    print(\"2. Hindi\")\n",
    "    print(\"3. Deutsch\")\n",
    "    ask_user_about_lang_pref.pref = input(\"Enter: \")\n",
    "    ask_user_about_lang_pref.pref = ask_user_about_lang_pref.pref.lower()\n",
    "    \n",
    "def to_continue_further():\n",
    "    print(\"Do you wish to convert it into any other language?\")\n",
    "    print(\"Y/N\")\n",
    "    yes_no = input()\n",
    "    yes_no = yes_no.lower()\n",
    "    if yes_no == 'y':\n",
    "        main_function()\n",
    "        #choice_of_input()   \n",
    "    elif yes_no == 'n':\n",
    "        print(\"Thank you! \")\n",
    "    else:\n",
    "        print(\"Sorry, I can't understand\")\n",
    "\n",
    "def convert_audio_to_text_detect():\n",
    "    r1 = sr.Recognizer()\n",
    "    with sr.Microphone() as source:\n",
    "        print('SPEAK NOW...')\n",
    "        audio = r1.listen(source)\n",
    "        try:\n",
    "            convert_audio_to_text_detect.get = r1.recognize_google(audio)\n",
    "            print(convert_audio_to_text_detect.get)\n",
    "            print(detect(convert_audio_to_text_detect.get))\n",
    "        except sr.UnkownValueError:\n",
    "            print('error')\n",
    "        except sr.RequestError as e:\n",
    "            print('failed'.format(e))\n",
    "\n",
    "\n",
    "    \n",
    "        \n",
    "#================================================MAIN FUNCTION =======================================================\n",
    "def main_function():\n",
    "    choice_of_input()\n",
    "    if choice_of_input.human_text == 'text':\n",
    "        detect_language = input(\"PLease enter the text which you wish to translate: \")\n",
    "        print(\"Language: \", detect(detect_language))\n",
    "        ask_user_about_lang_pref()\n",
    "        if ask_user_about_lang_pref.pref == 'english':\n",
    "            print(t.translate(detect_language, lang_tgt = 'en'))\n",
    "            to_continue_further()\n",
    "        elif ask_user_about_lang_pref.pref == 'hindi':\n",
    "            print(t.translate(detect_language, lang_tgt = 'hi'))\n",
    "            to_continue_further()\n",
    "        elif ask_user_about_lang_pref.pref == 'deutsch':\n",
    "            print(t.translate(detect_language, lang_tgt = 'de'))\n",
    "            to_continue_further()\n",
    "        else:\n",
    "            print('Try Again!')\n",
    "    elif choice_of_input.human_text == 'speech':\n",
    "        convert_audio_to_text_detect()\n",
    "        ask_user_about_lang_pref()\n",
    "        if ask_user_about_lang_pref.pref == 'english':\n",
    "            print(t.translate(convert_audio_to_text_detect.get, lang_tgt = 'en'))\n",
    "            to_continue_further()\n",
    "        elif ask_user_about_lang_pref.pref == 'hindi':\n",
    "            print(t.translate(convert_audio_to_text_detect.get, lang_tgt = 'hi'))\n",
    "            to_continue_further()\n",
    "        elif ask_user_about_lang_pref.pref == 'deutsch':\n",
    "            print(t.translate(convert_audio_to_text_detect.get, lang_tgt = 'de'))\n",
    "            to_continue_further()\n",
    "        else:\n",
    "            print('Try Again!')\n",
    "    else:\n",
    "        print(\"I am afraid, I can't help you!\")\n",
    "\n",
    "print('Hey I am Kitkat.')\n",
    "print('I am your personal translator.')\n",
    "main_function()  \n",
    "\n",
    "\n",
    "\n"
   ]
  },
  {
   "cell_type": "markdown",
   "metadata": {},
   "source": []
  },
  {
   "cell_type": "code",
   "execution_count": null,
   "metadata": {},
   "outputs": [],
   "source": [
    "!pip install pyqt5"
   ]
  },
  {
   "cell_type": "code",
   "execution_count": 5,
   "metadata": {},
   "outputs": [],
   "source": [
    "import sys\n",
    "import os\n",
    "from PyQt5 import uic\n",
    "from PyQt5 import QtWidgets as Qtw\n",
    "from PyQt5 import QtGui as Qtg\n",
    "from PyQt5 import QtCore as Qtc\n",
    "\n",
    "# # Code to show error, if the app crashes\n",
    "# import cgitb\n",
    "\n",
    "# cgitb.enable(format='text')\n",
    "\n",
    "\n",
    "# noinspection PyMethodMayBeStatic,PyAttributeOutsideInit\n",
    "class ChatBox(Qtw.QMainWindow):\n",
    "    def __init__(self):\n",
    "        super().__init__()  # avoid code redundancy\n",
    "\n",
    "        self.messages = []\n",
    "        self.text_display = \"\"\n",
    "\n",
    "        uic.loadUi(r\"UI\\Chat Box.ui\", self)\n",
    "\n",
    "        self.setWindowFlag(Qtc.Qt.FramelessWindowHint)\n",
    "\n",
    "        self.header_frame.mouseMoveEvent = self.move_with_click_title_bar\n",
    "\n",
    "        self.show()  # show the UI\n",
    "\n",
    "        self.send_message(False, \"Hey I am Kratzz!\")\n",
    "\n",
    "        self.send_message(False, \"I am your personal translator.\")\n",
    "\n",
    "        self.pushButton_3.clicked.connect(lambda: self.send_message(True))\n",
    "\n",
    "        self.minimiseButton.clicked.connect(lambda: self.showMinimized())\n",
    "\n",
    "        self.closeButton.clicked.connect(lambda: self.close())\n",
    "\n",
    "    def move_with_click_title_bar(self, event):\n",
    "\n",
    "        if event.buttons() == Qtc.Qt.LeftButton:\n",
    "            self.move(self.pos() + event.globalPos() - self.dragPos)\n",
    "            self.dragPos = event.globalPos()\n",
    "            event.accept()\n",
    "\n",
    "    def mousePressEvent(self, event):\n",
    "        self.dragPos = event.globalPos()\n",
    "\n",
    "    def send_message(self, message_from, message=\"\"):\n",
    "\n",
    "        text = self.userInputText.toPlainText()\n",
    "\n",
    "        if text == \"\" and message_from:\n",
    "            pass\n",
    "        else:\n",
    "\n",
    "            temp_dataset = {1: message_from, 2: text}\n",
    "\n",
    "            self.messages.append(temp_dataset)\n",
    "\n",
    "            if temp_dataset[1]:\n",
    "                self.text_display += f\"<div style='color: #ffa500'>[You]: {temp_dataset[2]}</div> <br />\"\n",
    "                self.chatsText.setText(self.text_display)\n",
    "\n",
    "            elif not temp_dataset[1]:\n",
    "                self.text_display += f\"<div style='color: #acc9e6'>[Bot]: {message}</div> <br />\"\n",
    "                self.chatsText.setText(self.text_display)\n",
    "\n",
    "            self.userInputText.setText(\"\")\n",
    "\n",
    "\n",
    "if __name__ == \"__main__\":\n",
    "    app = Qtw.QApplication(sys.argv)\n",
    "    chat_box = ChatBox()\n",
    "    sys.exit(app.exec())"
   ]
  },
  {
   "cell_type": "code",
   "execution_count": null,
   "metadata": {},
   "outputs": [],
   "source": []
  }
 ],
 "metadata": {
  "kernelspec": {
   "name": "python392jvsc74a57bd09b5db1b01a337d09172d2ba997cf7eb08ca5f45df98bfcd69842179882d36bb5",
   "display_name": "Python 3.9.2 64-bit ('venv')"
  },
  "language_info": {
   "codemirror_mode": {
    "name": "ipython",
    "version": 3
   },
   "file_extension": ".py",
   "mimetype": "text/x-python",
   "name": "python",
   "nbconvert_exporter": "python",
   "pygments_lexer": "ipython3",
   "version": "3.9.2"
  },
  "metadata": {
   "interpreter": {
    "hash": "9b5db1b01a337d09172d2ba997cf7eb08ca5f45df98bfcd69842179882d36bb5"
   }
  }
 },
 "nbformat": 4,
 "nbformat_minor": 4
}